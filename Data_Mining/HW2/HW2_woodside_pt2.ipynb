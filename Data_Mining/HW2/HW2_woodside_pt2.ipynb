{
 "cells": [
  {
   "cell_type": "markdown",
   "metadata": {},
   "source": [
    "Homework 2 - Christie Woodside\n",
    "\n",
    "1.\tGiven an integer, n, say(0< n<100),  perform the following conditional actions:\n",
    "\n",
    "•\tIf  n is odd, print Weird\n",
    "•\tIf n  is even and in the inclusive range of 2  to 5 , print Not Weird\n",
    "•\tIf n  is even and in the inclusive range of 6  to 20, print Weird\n",
    "•\tIf  n is even and greater than 20, print Not Weird\n"
   ]
  },
  {
   "cell_type": "code",
   "execution_count": 2,
   "metadata": {},
   "outputs": [
    {
     "name": "stdout",
     "output_type": "stream",
     "text": [
      "Value of n is: 87\n",
      "weird\n"
     ]
    }
   ],
   "source": [
    "import numpy as np\n",
    "n = np.random.randint(1, 100)\n",
    "print(f'Value of n is: {n}')\n",
    "\n",
    "if n % 2 != 0:\n",
    "    #if odd number\n",
    "    print(\"weird\")\n",
    "elif n % 2 == 0 and 2<= n <= 5:\n",
    "    #if even between inclusive 2 and 5\n",
    "    print(\"not weird\")\n",
    "elif n % 2 == 0 and 6<= n <= 20:\n",
    "    #if even between inclusive 6 and 20\n",
    "    print(\"weird\")\n",
    "elif n % 2 == 0 and n > 20:\n",
    "    #if even and greater than 20\n",
    "    print(\"not weird\")\n"
   ]
  },
  {
   "cell_type": "markdown",
   "metadata": {},
   "source": [
    "2.\tWrite a function what computes the maximum between two scalars. Convert that function  to work on two arrays. HINT: use numpy.vectorize"
   ]
  },
  {
   "cell_type": "code",
   "execution_count": 3,
   "metadata": {},
   "outputs": [
    {
     "name": "stdout",
     "output_type": "stream",
     "text": [
      "array a: [5 2 1 8 9 9]\n",
      "array b: [6 2 9 2 9 9]\n",
      "Maximum between two scalers between 2 arrays [6 2 9 8 9 9]\n"
     ]
    }
   ],
   "source": [
    "import numpy as np\n",
    "\n",
    "def max_2_scalers(x,y):\n",
    "    return max(x,y)\n",
    "\n",
    "# a = np.array([5,2,6,1,3,6])\n",
    "# b = np.array([8,2,5,9,1,7])\n",
    "a = np.random.randint(1,10, size = 6)\n",
    "b = np.random.randint(1,10, size = 6)\n",
    "\n",
    "vectorize = np.vectorize(max_2_scalers)\n",
    "v = vectorize(a,b)\n",
    "print(f'array a: {a}')\n",
    "print(f'array b: {b}')\n",
    "print(f'Maximum between two scalers between 2 arrays {v}')\n"
   ]
  },
  {
   "cell_type": "markdown",
   "metadata": {},
   "source": [
    "3.\tGenerate 100 random variables which follow normal distribution with mean 2 and  standard deviation 5. Compute their mean, median and variance. HINT use numpy.random.normal, numpy.median"
   ]
  },
  {
   "cell_type": "code",
   "execution_count": 4,
   "metadata": {},
   "outputs": [
    {
     "name": "stdout",
     "output_type": "stream",
     "text": [
      "random dist variables: [  9.76800831  -3.47624169   1.49728924   9.80832214   0.76665909\n",
      "   6.10669932  -8.66403524   1.74692752   1.25908595  -1.05970826\n",
      "  -4.99228407  -3.28788      8.56240387   5.55518571   8.89472075\n",
      "   6.21943361   4.37066075   3.02792592   5.54734564  13.59291434\n",
      "   7.4837535   -4.1833317    7.54640341   7.54423759  10.04697263\n",
      "   8.33500923  -7.40427374  -4.44772931   3.05075959   7.02285901\n",
      "  -3.20624557   5.48885054  -0.68681663   4.46811054   8.27443973\n",
      "  -7.01763853   3.44107269   0.8214928   15.91166527   6.90170223\n",
      "  -6.31041062  -0.45198771   8.4335211   -0.69029745  -1.61845122\n",
      "   9.0440975   -3.77747872  -3.12149846   3.18619877   4.9711518\n",
      "   6.62110026  -1.61686301  -5.05502931   4.44302013   7.79548814\n",
      "  -2.34834311  -0.77952599   0.86595648   2.46850924  -0.08470673\n",
      "  -2.11601794   0.90748447  -3.46121014   1.98805641  -1.69544602\n",
      "   2.55721394  -5.64179258   7.5401363   -0.82549932   9.07092627\n",
      "   5.15994666   0.77831119  -0.1996183   -1.86890303   3.93888144\n",
      "  -1.90843502  -4.71598744   4.60262496   2.39855046   1.06496204\n",
      "  -3.50759978   5.35836271  -0.34587077  -0.55492463  14.84154936\n",
      "   3.10693228   4.40582641 -11.43707095   2.35056775   4.03628995\n",
      "   2.00462071  -4.66686399 -11.48243477   1.10475582   3.9941863\n",
      "  -0.58504755   4.72421338  -1.13331119   3.39364588  -3.256251  ]\n",
      "The mean is 1.865349375635152 with a median of 1.8674919642924428 and variance of 28.483373339135618.\n"
     ]
    }
   ],
   "source": [
    "var = np.random.normal(loc = 2, scale = 5, size = 100)\n",
    "\n",
    "print(f'random dist variables: {var}')\n",
    "mean = np.mean(var)\n",
    "median = np.median(var)\n",
    "variance = np.var(var)\n",
    "\n",
    "print(f'The mean is {mean} with a median of {median} and variance of {variance}.')"
   ]
  },
  {
   "cell_type": "markdown",
   "metadata": {},
   "source": [
    "4.\tInsert np.nan values at 20 random positions into the array from the previous exercise HINT use np.random.choice"
   ]
  },
  {
   "cell_type": "code",
   "execution_count": 5,
   "metadata": {},
   "outputs": [
    {
     "name": "stdout",
     "output_type": "stream",
     "text": [
      "random dist variables with nans: [  9.76800831  -3.47624169   1.49728924   9.80832214   0.76665909\n",
      "   6.10669932  -8.66403524          nan   1.25908595  -1.05970826\n",
      "          nan  -3.28788      8.56240387   5.55518571   8.89472075\n",
      "   6.21943361   4.37066075   3.02792592          nan  13.59291434\n",
      "   7.4837535   -4.1833317    7.54640341          nan  10.04697263\n",
      "   8.33500923  -7.40427374  -4.44772931          nan   7.02285901\n",
      "  -3.20624557   5.48885054          nan   4.46811054   8.27443973\n",
      "          nan          nan   0.8214928   15.91166527   6.90170223\n",
      "  -6.31041062  -0.45198771   8.4335211           nan  -1.61845122\n",
      "   9.0440975   -3.77747872  -3.12149846   3.18619877   4.9711518\n",
      "   6.62110026  -1.61686301  -5.05502931   4.44302013   7.79548814\n",
      "  -2.34834311          nan   0.86595648   2.46850924  -0.08470673\n",
      "  -2.11601794          nan          nan   1.98805641  -1.69544602\n",
      "   2.55721394          nan   7.5401363   -0.82549932          nan\n",
      "   5.15994666   0.77831119  -0.1996183   -1.86890303          nan\n",
      "  -1.90843502  -4.71598744   4.60262496   2.39855046   1.06496204\n",
      "          nan   5.35836271          nan  -0.55492463  14.84154936\n",
      "   3.10693228   4.40582641 -11.43707095          nan   4.03628995\n",
      "   2.00462071  -4.66686399          nan   1.10475582   3.9941863\n",
      "  -0.58504755   4.72421338  -1.13331119   3.39364588          nan]\n"
     ]
    }
   ],
   "source": [
    "#var = np.random.normal(loc = 2, scale = 5, size = 100)\n",
    "nan = np.random.choice(100, size = 20, replace=False)\n",
    "var[nan] = np.nan\n",
    "\n",
    "print(f'random dist variables with nans: {var}')\n",
    "# mean = np.mean(var)\n",
    "# median = np.median(var)\n",
    "# variance = np.var(var)\n",
    "\n",
    "# print(f'The mean is {mean} with a median of {median} and variance of {variance}.')"
   ]
  },
  {
   "cell_type": "markdown",
   "metadata": {},
   "source": [
    "5.\tFind the number and position of missing values in the array from the above exercise. HINT use  np.where, np.isnan"
   ]
  },
  {
   "cell_type": "code",
   "execution_count": 6,
   "metadata": {},
   "outputs": [
    {
     "name": "stdout",
     "output_type": "stream",
     "text": [
      "positions of the NaNs: (array([ 7, 10, 18, 23, 28, 32, 35, 36, 43, 56, 61, 62, 66, 69, 74, 80, 82,\n",
      "       88, 92, 99]),)\n",
      "Number of NaNs found: 20\n"
     ]
    }
   ],
   "source": [
    "find = np.where(np.isnan(var))\n",
    "print(f'positions of the NaNs: {find}')\n",
    "num = len(find[0])\n",
    "#print(find[0])\n",
    "print(f'Number of NaNs found: {num}')"
   ]
  },
  {
   "cell_type": "markdown",
   "metadata": {},
   "source": [
    "6.\tReshape the array with missing values to be a 10 by 10 2d array. \n",
    "7.\tDrop rows that contain a missing value from 2d e array resulted in problem 6. "
   ]
  },
  {
   "cell_type": "code",
   "execution_count": 7,
   "metadata": {},
   "outputs": [
    {
     "name": "stdout",
     "output_type": "stream",
     "text": [
      "2d array: \n",
      "[[  9.76800831  -3.47624169   1.49728924   9.80832214   0.76665909\n",
      "    6.10669932  -8.66403524          nan   1.25908595  -1.05970826]\n",
      " [         nan  -3.28788      8.56240387   5.55518571   8.89472075\n",
      "    6.21943361   4.37066075   3.02792592          nan  13.59291434]\n",
      " [  7.4837535   -4.1833317    7.54640341          nan  10.04697263\n",
      "    8.33500923  -7.40427374  -4.44772931          nan   7.02285901]\n",
      " [ -3.20624557   5.48885054          nan   4.46811054   8.27443973\n",
      "           nan          nan   0.8214928   15.91166527   6.90170223]\n",
      " [ -6.31041062  -0.45198771   8.4335211           nan  -1.61845122\n",
      "    9.0440975   -3.77747872  -3.12149846   3.18619877   4.9711518 ]\n",
      " [  6.62110026  -1.61686301  -5.05502931   4.44302013   7.79548814\n",
      "   -2.34834311          nan   0.86595648   2.46850924  -0.08470673]\n",
      " [ -2.11601794          nan          nan   1.98805641  -1.69544602\n",
      "    2.55721394          nan   7.5401363   -0.82549932          nan]\n",
      " [  5.15994666   0.77831119  -0.1996183   -1.86890303          nan\n",
      "   -1.90843502  -4.71598744   4.60262496   2.39855046   1.06496204]\n",
      " [         nan   5.35836271          nan  -0.55492463  14.84154936\n",
      "    3.10693228   4.40582641 -11.43707095          nan   4.03628995]\n",
      " [  2.00462071  -4.66686399          nan   1.10475582   3.9941863\n",
      "   -0.58504755   4.72421338  -1.13331119   3.39364588          nan]]\n",
      "\n",
      "2D array with removed rows of Nans: \n",
      "[]\n"
     ]
    }
   ],
   "source": [
    "twoD = var.reshape(10,10)\n",
    "#print(f'original 1D array: {var}\\n')\n",
    "print(f'2d array: \\n{twoD}')\n",
    "\n",
    "#dropping rows with the nans\n",
    "f_twoD = twoD[np.all(~np.isnan(twoD), axis=1)]\n",
    "print(f'\\n2D array with removed rows of Nans: \\n{f_twoD}')"
   ]
  },
  {
   "cell_type": "markdown",
   "metadata": {},
   "source": [
    "8.\tGenerate 1d array of 20 Poisson random variables with mean 10.\n",
    "9.\tRank the values in the array from problem  8 from the smallest to the largest\n",
    "10.\tPerform min-max transformation with elements of the array from problem  9 so that all values will be inside [0,1] interval. \n"
   ]
  },
  {
   "cell_type": "code",
   "execution_count": 8,
   "metadata": {},
   "outputs": [
    {
     "name": "stdout",
     "output_type": "stream",
     "text": [
      "Poission array: [11  8  9  7 10  6 11 10 11 11  6  9 11  6 14 12  6  8  7 16]\n",
      "\n",
      "p_array ranked from smallest to largest: \n",
      "[ 6  6  6  6  7  7  8  8  9  9 10 10 11 11 11 11 11 12 14 16]\n",
      "\n",
      "min-max transformation of p_array: \n",
      "[0.5 0.2 0.3 0.1 0.4 0.  0.5 0.4 0.5 0.5 0.  0.3 0.5 0.  0.8 0.6 0.  0.2\n",
      " 0.1 1. ]\n"
     ]
    }
   ],
   "source": [
    "p_array= np.random.poisson(10, size= 20)\n",
    "print(f'Poission array: {p_array}')\n",
    "\n",
    "#from smallest to largest\n",
    "rank= np.sort(p_array)\n",
    "print(f'\\np_array ranked from smallest to largest: \\n{rank}')\n",
    "\n",
    "#min-max transformation\n",
    "minn = np.min(p_array)\n",
    "maxx = np.max(p_array)\n",
    "\n",
    "calc= (p_array - minn)/(maxx - minn)\n",
    "print(f'\\nmin-max transformation of p_array: \\n{calc}')"
   ]
  }
 ],
 "metadata": {
  "kernelspec": {
   "display_name": ".venv",
   "language": "python",
   "name": "python3"
  },
  "language_info": {
   "codemirror_mode": {
    "name": "ipython",
    "version": 3
   },
   "file_extension": ".py",
   "mimetype": "text/x-python",
   "name": "python",
   "nbconvert_exporter": "python",
   "pygments_lexer": "ipython3",
   "version": "3.9.1"
  }
 },
 "nbformat": 4,
 "nbformat_minor": 2
}

{
 "cells": [
  {
   "cell_type": "markdown",
   "metadata": {},
   "source": [
    "Christie Woodside Homework 3\n"
   ]
  },
  {
   "cell_type": "code",
   "execution_count": 10,
   "metadata": {},
   "outputs": [
    {
     "name": "stdout",
     "output_type": "stream",
     "text": [
      "  Product Region  Year  Sales  Discount  Profit\n",
      "0       A   East  2020    100        10      90\n",
      "1       A   West  2020    150        15     135\n",
      "2       B   East  2021    200        20     180\n",
      "3       B   West  2021    250        25     225\n",
      "4       C   East  2020    300        30     270\n",
      "5       C   West  2020    350        35     315\n",
      "6       D   East  2021    400        40     360\n",
      "7       D   West  2021    450        45     405\n"
     ]
    }
   ],
   "source": [
    "import pandas as pd\n",
    "import numpy as np\n",
    "\n",
    "# Create the DataFrame to be reused in all problems\n",
    "data = {\n",
    "    'Product': ['A', 'A', 'B', 'B', 'C', 'C', 'D', 'D'],\n",
    "    'Region': ['East', 'West', 'East', 'West', 'East', 'West', 'East', 'West'],\n",
    "    'Year': [2020, 2020, 2021, 2021, 2020, 2020, 2021, 2021],\n",
    "    'Sales': [100, 150, 200, 250, 300, 350, 400, 450],\n",
    "    'Discount': [10, 15, 20, 25, 30, 35, 40, 45],\n",
    "    'Profit': [90, 135, 180, 225, 270, 315, 360, 405]\n",
    "}\n",
    "\n",
    "df = pd.DataFrame(data)\n",
    "print(df)\n"
   ]
  },
  {
   "cell_type": "markdown",
   "metadata": {},
   "source": [
    "Problem 1: Pivot the DataFrame\n",
    "Pivot the DataFrame to show the total Sales for each Product across different Regions.\n",
    "\n",
    "Problem 2: Use groupby to Aggregate Data\n",
    "Use groupby to calculate the sum of Profit for each Product and Year combination.\n"
   ]
  },
  {
   "cell_type": "code",
   "execution_count": 11,
   "metadata": {},
   "outputs": [
    {
     "name": "stdout",
     "output_type": "stream",
     "text": [
      "pivoted table of total sales for each product across the regions\n",
      " Region   East  West\n",
      "Product            \n",
      "A         100   150\n",
      "B         200   250\n",
      "C         300   350\n",
      "D         400   450\n",
      "\n",
      " grouped by product and year to the sum of profit \n",
      "  Product  Year  Profit\n",
      "0       A  2020     225\n",
      "1       B  2021     405\n",
      "2       C  2020     585\n",
      "3       D  2021     765\n"
     ]
    }
   ],
   "source": [
    "p_df = df.pivot_table(values='Sales', index='Product', columns='Region', aggfunc='sum')\n",
    "print(f'pivoted table of total sales for each product across the regions\\n {p_df}')\n",
    "\n",
    "g_df = df.groupby(['Product','Year'])['Profit'].sum().reset_index()\n",
    "print(f'\\n grouped by product and year to the sum of profit \\n{g_df}')\n"
   ]
  },
  {
   "cell_type": "markdown",
   "metadata": {},
   "source": [
    "Problem 3: Stack the DataFrame\n",
    "Stack the DataFrame by \"Product\" and \"Region\". Then display the stacked DataFrame.\n",
    "\n",
    "Problem 4: Unstack the DataFrame\n",
    "Unstack the DataFrame to display \"Region\" in the column index while keeping \"Product\" as the row index.\n"
   ]
  },
  {
   "cell_type": "code",
   "execution_count": 12,
   "metadata": {},
   "outputs": [
    {
     "name": "stdout",
     "output_type": "stream",
     "text": [
      "Stacked df by product and region \n",
      "Product  Region          \n",
      "A        East    Year        2020\n",
      "                 Sales        100\n",
      "                 Discount      10\n",
      "                 Profit        90\n",
      "         West    Year        2020\n",
      "                 Sales        150\n",
      "                 Discount      15\n",
      "                 Profit       135\n",
      "B        East    Year        2021\n",
      "                 Sales        200\n",
      "                 Discount      20\n",
      "                 Profit       180\n",
      "         West    Year        2021\n",
      "                 Sales        250\n",
      "                 Discount      25\n",
      "                 Profit       225\n",
      "C        East    Year        2020\n",
      "                 Sales        300\n",
      "                 Discount      30\n",
      "                 Profit       270\n",
      "         West    Year        2020\n",
      "                 Sales        350\n",
      "                 Discount      35\n",
      "                 Profit       315\n",
      "D        East    Year        2021\n",
      "                 Sales        400\n",
      "                 Discount      40\n",
      "                 Profit       360\n",
      "         West    Year        2021\n",
      "                 Sales        450\n",
      "                 Discount      45\n",
      "                 Profit       405\n",
      "dtype: int64\n"
     ]
    }
   ],
   "source": [
    "df = pd.DataFrame(data) #only way to let me reset the index with no error\n",
    "\n",
    "s_df = df.set_index(['Product', 'Region']).stack()\n",
    "#s_df.stack()\n",
    "print(f'Stacked df by product and region \\n{s_df}')\n",
    "\n",
    "#df = df.set_index(['Product', 'Region'])\n",
    "#u_df = df.unstack(['Region'])\n",
    "# u_df = df.set_index(['Product', 'Region']).unstack('Region')\n",
    "# print(f' unstacked table \\n {u_df} ')"
   ]
  },
  {
   "cell_type": "code",
   "execution_count": 13,
   "metadata": {},
   "outputs": [
    {
     "name": "stdout",
     "output_type": "stream",
     "text": [
      " unstacked table \n",
      "          Year       Sales      Discount      Profit     \n",
      "Region   East  West  East West     East West   East West\n",
      "Product                                                 \n",
      "A        2020  2020   100  150       10   15     90  135\n",
      "B        2021  2021   200  250       20   25    180  225\n",
      "C        2020  2020   300  350       30   35    270  315\n",
      "D        2021  2021   400  450       40   45    360  405 \n"
     ]
    }
   ],
   "source": [
    "u_df = df.set_index(['Product', 'Region']).unstack('Region')\n",
    "print(f' unstacked table \\n {u_df} ')"
   ]
  },
  {
   "cell_type": "markdown",
   "metadata": {},
   "source": [
    "Problem 5: Pivot Table with Aggregation\n",
    "Create a pivot table showing the mean Discount and the sum of Sales for each combination of Product and Year.\n",
    "\n",
    "Problem 6: Multi-Index Sorting\n",
    "Convert the DataFrame to a multi-indexed DataFrame with Product and Region as indices. Sort the DataFrame by Product first and then by Region.\n"
   ]
  },
  {
   "cell_type": "code",
   "execution_count": 14,
   "metadata": {},
   "outputs": [
    {
     "name": "stdout",
     "output_type": "stream",
     "text": [
      "agg table of product and year by mean discount and sum of sales \n",
      "              Sales  Discount\n",
      "Product Year                 \n",
      "A       2020    250      12.5\n",
      "B       2021    450      22.5\n",
      "C       2020    650      32.5\n",
      "D       2021    850      42.5\n",
      "Resorting the index from a multi index \n",
      "                Year  Sales  Discount  Profit\n",
      "Product Region                               \n",
      "A       East    2020    100        10      90\n",
      "        West    2020    150        15     135\n",
      "B       East    2021    200        20     180\n",
      "        West    2021    250        25     225\n",
      "C       East    2020    300        30     270\n",
      "        West    2020    350        35     315\n",
      "D       East    2021    400        40     360\n",
      "        West    2021    450        45     405\n"
     ]
    }
   ],
   "source": [
    "m_df = df.groupby(['Product','Year']).aggregate({'Sales': 'sum', 'Discount': 'mean'})\n",
    "print(f'agg table of product and year by mean discount and sum of sales \\n{m_df}')\n",
    "\n",
    "s_df= df.set_index(['Product', 'Region']).sort_index()\n",
    "print(f'Resorting the index from a multi index \\n{s_df}')"
   ]
  },
  {
   "cell_type": "markdown",
   "metadata": {},
   "source": [
    "Problem 7: Selecting Data with Multi-Index\n",
    "Using the multi-indexed DataFrame from Problem 6, select all data for Product = 'A'.\n",
    "\n",
    "Problem 8: Stack and Unstack Operations\n",
    "Perform a stack operation to convert the DataFrame into a stacked format based on the Year and Region. Then, unstack it back, using Year as the column header.\n"
   ]
  },
  {
   "cell_type": "code",
   "execution_count": 15,
   "metadata": {},
   "outputs": [
    {
     "name": "stdout",
     "output_type": "stream",
     "text": [
      "print data for where product = A\n",
      "        Year  Sales  Discount  Profit\n",
      "Region                               \n",
      "East    2020    100        10      90\n",
      "West    2020    150        15     135\n"
     ]
    }
   ],
   "source": [
    "#print(s_df)\n",
    "p_a_data = s_df.xs('A', level='Product')\n",
    "print(f'print data for where product = A\\n{p_a_data}')"
   ]
  },
  {
   "cell_type": "code",
   "execution_count": 16,
   "metadata": {},
   "outputs": [
    {
     "name": "stdout",
     "output_type": "stream",
     "text": [
      "Duplicates in index:\n",
      "MultiIndex([(2020, 'East'),\n",
      "            (2020, 'West'),\n",
      "            (2021, 'East'),\n",
      "            (2021, 'West')],\n",
      "           names=['Year', 'Region'])\n",
      "Stacked df by year and region \n",
      "Year  Region          \n",
      "2020  East    Sales       200\n",
      "              Discount     20\n",
      "              Profit      180\n",
      "      West    Sales       250\n",
      "              Discount     25\n",
      "              Profit      225\n",
      "2021  East    Sales       300\n",
      "              Discount     30\n",
      "              Profit      270\n",
      "      West    Sales       350\n",
      "              Discount     35\n",
      "              Profit      315\n",
      "dtype: int64\n"
     ]
    }
   ],
   "source": [
    "I = df.set_index(['Year', 'Region']) #easy assignment for recall\n",
    "\n",
    "#checking for duplicates (common error I got for unstacking the datatable)\n",
    "duplicates = I.index.duplicated()\n",
    "print(\"Duplicates in index:\")\n",
    "print(I.index[duplicates])\n",
    "\n",
    "n_df = I.select_dtypes(include='number')\n",
    "I = n_df.groupby(level=['Year', 'Region']).mean()\n",
    "\n",
    "#stacking the tabel\n",
    "y_df = I.stack()\n",
    "#s_df.stack()\n",
    "print(f'Stacked df by year and region \\n{y_df}')\n",
    "\n",
    "# U_df = y_df.unstack('Region')\n",
    "# print(f' unstacked table by year \\n {U_df} ')"
   ]
  },
  {
   "cell_type": "code",
   "execution_count": 17,
   "metadata": {},
   "outputs": [
    {
     "name": "stdout",
     "output_type": "stream",
     "text": [
      " unstacked table by year \n",
      "        Sales      Discount      Profit     \n",
      "Region  East West     East West   East West\n",
      "Year                                       \n",
      "2020     200  250       20   25    180  225\n",
      "2021     300  350       30   35    270  315 \n"
     ]
    }
   ],
   "source": [
    "#print(y_df)\n",
    "#U_df = df.set_index(['Year', 'Region']).unstack('Region')\n",
    "#Unstacking now works without duplicates\n",
    "U_df = I.unstack('Region')\n",
    "print(f' unstacked table by year \\n {U_df} ')\n"
   ]
  },
  {
   "cell_type": "markdown",
   "metadata": {},
   "source": [
    "Problem 9: Handling Missing Data\n",
    "Modify the Sales column by setting some values as NaN (missing). Create a pivot table using Product and Region to find the sum of Sales, and use the fill_value argument to fill missing values with 0.\n",
    "\n",
    "Problem 10: Group by Multiple Columns\n",
    "Group the DataFrame by both Product and Region to find the average Profit for each group.\n"
   ]
  },
  {
   "cell_type": "code",
   "execution_count": 18,
   "metadata": {},
   "outputs": [
    {
     "name": "stdout",
     "output_type": "stream",
     "text": [
      "pivoted table of total sales for each product across the regions\n",
      " Region   East  West\n",
      "Product            \n",
      "A         100   150\n",
      "B           0   250\n",
      "C         300     0\n",
      "D         400     0\n",
      "\n",
      " grouped by product and region to the average profit for each group \n",
      "  Product Region  Profit\n",
      "0       A   East      90\n",
      "1       A   West     135\n",
      "2       B   East     180\n",
      "3       B   West     225\n",
      "4       C   East     270\n",
      "5       C   West     315\n",
      "6       D   East     360\n",
      "7       D   West     405\n"
     ]
    }
   ],
   "source": [
    "#settings ome random values as NaN\n",
    "# nan = np.random.choice(1, size = 5, replace=False)\n",
    "# data[nan] = np.nan\n",
    "#df.set_index()\n",
    "\n",
    "# df.loc[5, 'Sales'] = 'nan'\n",
    "# df.loc[2, 'Sales'] = 'nan'\n",
    "# df.loc[7, 'Sales'] = 'nan'\n",
    "\n",
    "df.loc[5, 'Sales'] = np.nan\n",
    "df.loc[2, 'Sales'] = np.nan\n",
    "df.loc[7, 'Sales'] = np.nan\n",
    "\n",
    "p_table = df.pivot_table(values='Sales', index='Product', columns='Region', aggfunc='sum', fill_value=0)\n",
    "\n",
    "print(f'pivoted table of total sales for each product across the regions\\n {p_table}')\n",
    "\n",
    "g_df = df.groupby(['Product','Region'])['Profit'].mean().reset_index()\n",
    "print(f'\\n grouped by product and region to the average profit for each group \\n{g_df}')"
   ]
  }
 ],
 "metadata": {
  "kernelspec": {
   "display_name": ".venv",
   "language": "python",
   "name": "python3"
  },
  "language_info": {
   "codemirror_mode": {
    "name": "ipython",
    "version": 3
   },
   "file_extension": ".py",
   "mimetype": "text/x-python",
   "name": "python",
   "nbconvert_exporter": "python",
   "pygments_lexer": "ipython3",
   "version": "3.9.1"
  }
 },
 "nbformat": 4,
 "nbformat_minor": 2
}

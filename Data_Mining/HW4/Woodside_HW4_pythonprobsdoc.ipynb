{
 "cells": [
  {
   "cell_type": "markdown",
   "metadata": {},
   "source": [
    "# Christie Woodside HW4 Python Problems; Categorical Data"
   ]
  },
  {
   "cell_type": "markdown",
   "metadata": {},
   "source": [
    "Problem 1: Basic Label Encoding \n",
    "\n",
    "Given a list of categorical values ['low', 'medium', 'high', 'low'], encode them using label encoding.\n"
   ]
  },
  {
   "cell_type": "code",
   "execution_count": 61,
   "metadata": {},
   "outputs": [
    {
     "name": "stdout",
     "output_type": "stream",
     "text": [
      "labels [1 2 0 1]\n",
      "  Category  Encoded Label\n",
      "0      low              1\n",
      "1   medium              2\n",
      "2     high              0\n",
      "3      low              1\n"
     ]
    }
   ],
   "source": [
    "import pandas as pd\n",
    "import numpy as np\n",
    "import sklearn.preprocessing as sk\n",
    "cat = ['low', 'medium', 'high', 'low']\n",
    "\n",
    "\n",
    "label = sk.LabelEncoder()\n",
    "cat_label = label.fit_transform(cat)\n",
    "print('labels', cat_label)\n",
    "\n",
    "Cat_df = pd.DataFrame({'Category': cat, 'Encoded Label': cat_label})\n",
    "print(Cat_df)"
   ]
  },
  {
   "cell_type": "markdown",
   "metadata": {},
   "source": [
    "Problem 2: One-Hot Encoding with Pandas\n",
    "\n",
    "Convert a list of categorical values ['red', 'blue', 'green', 'blue'] into one-hot encoded variables using pandas.\n"
   ]
  },
  {
   "cell_type": "code",
   "execution_count": 62,
   "metadata": {},
   "outputs": [
    {
     "name": "stdout",
     "output_type": "stream",
     "text": [
      "  Category  Category_blue  Category_green  Category_red\n",
      "0      red            0.0             0.0           1.0\n",
      "1     blue            1.0             0.0           0.0\n",
      "2    green            0.0             1.0           0.0\n",
      "3     blue            1.0             0.0           0.0\n"
     ]
    }
   ],
   "source": [
    "color = ['red', 'blue', 'green', 'blue'] \n",
    "\n",
    "color_list = pd.DataFrame(color, columns= ['Category'])\n",
    "hot = sk.OneHotEncoder(sparse_output=False)\n",
    "\n",
    "hot_color = hot.fit_transform(color_list[['Category']])\n",
    "color_df = pd.DataFrame(hot_color, columns=hot.get_feature_names_out(['Category']))\n",
    "#print(color_df)\n",
    "df_combined = pd.concat([color_list, color_df], axis=1)\n",
    "\n",
    "# Display the DataFrame\n",
    "print(df_combined)"
   ]
  },
  {
   "cell_type": "markdown",
   "metadata": {},
   "source": [
    "Problem 3: Filling Missing Categorical Values\n",
    "\n",
    "Given a column with categorical values ['A', 'B', 'A', None, 'C', 'A', None], fill missing values with the mode (most frequent value).\n"
   ]
  },
  {
   "cell_type": "code",
   "execution_count": 63,
   "metadata": {},
   "outputs": [
    {
     "name": "stdout",
     "output_type": "stream",
     "text": [
      "  Letter\n",
      "0      A\n",
      "1      B\n",
      "2      A\n",
      "3      A\n",
      "4      C\n",
      "5      A\n",
      "6      A\n"
     ]
    }
   ],
   "source": [
    "from sklearn.impute import SimpleImputer\n",
    "\n",
    "letter = ['A', 'B', 'A', None, 'C', 'A', None]\n",
    "letter_list = pd.DataFrame(letter, columns=['Letter']).replace({None: np.nan})\n",
    "\n",
    "m = SimpleImputer(strategy='most_frequent')\n",
    "m_impute = m.fit_transform(letter_list)\n",
    "letter_df = pd.DataFrame(m_impute, columns=['Letter'])\n",
    "print(letter_df)\n"
   ]
  },
  {
   "cell_type": "markdown",
   "metadata": {},
   "source": [
    "Problem 4: Frequency Encoding\n",
    "\n",
    "Replace the categorical values ['A', 'B', 'A', 'C', 'B', 'A'] with their frequency counts.\n"
   ]
  },
  {
   "cell_type": "code",
   "execution_count": 64,
   "metadata": {},
   "outputs": [
    {
     "name": "stdout",
     "output_type": "stream",
     "text": [
      "  Letter  Frequency\n",
      "0      A          3\n",
      "1      B          2\n",
      "2      A          3\n",
      "3      C          1\n",
      "4      B          2\n",
      "5      A          3\n"
     ]
    }
   ],
   "source": [
    "freq = ['A', 'B', 'A', 'C', 'B', 'A'] \n",
    "\n",
    "freq_df = pd.DataFrame(freq, columns=['Letter'])\n",
    "freq_c = freq_df['Letter'].value_counts()\n",
    "freq_df['Frequency'] = freq_df['Letter'].map(freq_c)\n",
    "\n",
    "print(freq_df)"
   ]
  },
  {
   "cell_type": "markdown",
   "metadata": {},
   "source": [
    "Problem 5: Combining Rare Categories\n",
    "\n",
    "Given a list of categorical values ['A', 'B', 'A', 'C', 'D', 'A', 'D', 'C'], combine categories that occur fewer than 2 times into a new category called 'Other'.\n"
   ]
  },
  {
   "cell_type": "code",
   "execution_count": 65,
   "metadata": {},
   "outputs": [
    {
     "name": "stdout",
     "output_type": "stream",
     "text": [
      "Category\n",
      "A    3\n",
      "C    2\n",
      "D    2\n",
      "B    1\n",
      "Name: count, dtype: int64\n",
      "  Category  Other\n",
      "0        A      A\n",
      "1        B  Other\n",
      "2        A      A\n",
      "3        C      C\n",
      "4        D      D\n",
      "5        A      A\n",
      "6        D      D\n",
      "7        C      C\n"
     ]
    }
   ],
   "source": [
    "rare = ['A', 'B', 'A', 'C', 'D', 'A', 'D', 'C']\n",
    "\n",
    "rare_df = pd.DataFrame(rare, columns=['Category'])\n",
    "rare_freq = rare_df['Category'].value_counts()\n",
    "print(rare_freq)\n",
    "\n",
    "rare_categories = rare_freq[rare_freq == 1].index\n",
    "rare_df['Other'] = rare_df['Category'].apply(lambda x: 'Other' if x in rare_categories else x)\n",
    "print(rare_df)"
   ]
  },
  {
   "cell_type": "markdown",
   "metadata": {},
   "source": [
    "Problem 6: Inverse Label Encoding\n",
    "\n",
    "Given a list of encoded values [0, 1, 2, 0], decode it back into ['A', 'B', 'C', 'A'].\n"
   ]
  },
  {
   "cell_type": "code",
   "execution_count": 66,
   "metadata": {},
   "outputs": [
    {
     "name": "stdout",
     "output_type": "stream",
     "text": [
      "   Values Letters\n",
      "0       0       A\n",
      "1       1       B\n",
      "2       2       C\n",
      "3       0       A\n"
     ]
    }
   ],
   "source": [
    "val = [0,1,2,0]\n",
    "mapped = {0: 'A', 1: 'B', 2: 'C'}\n",
    "\n",
    "label = [mapped[v] for v in val]\n",
    "#print(label)\n",
    "val_df = pd.DataFrame({'Values': val, 'Letters': label})\n",
    "print(val_df)\n"
   ]
  },
  {
   "cell_type": "markdown",
   "metadata": {},
   "source": [
    "Problem 7: Mapping Categories\n",
    "\n",
    "Given a column of values ['small', 'medium', 'large'], map them to ['S', 'M', 'L'] using a \n"
   ]
  },
  {
   "cell_type": "code",
   "execution_count": 67,
   "metadata": {},
   "outputs": [
    {
     "name": "stdout",
     "output_type": "stream",
     "text": [
      "     Size Mapped Size\n",
      "0   small           S\n",
      "1  medium           M\n",
      "2   large           L\n"
     ]
    }
   ],
   "source": [
    "size = ['small', 'medium', 'large']\n",
    "\n",
    "sizes = df = pd.DataFrame(size, columns=['Size'])\n",
    "category = {'small': 'S', 'medium': 'M', 'large': 'L'}\n",
    "#label = [category[v] for v in size]\n",
    "sizes['Mapped Size'] = sizes['Size'].map(category)\n",
    "# sizes = pd.DataFrame({'Word': size, 'Short': category})\n",
    "print(sizes)\n"
   ]
  },
  {
   "cell_type": "markdown",
   "metadata": {},
   "source": [
    "Problem 8: Ordinal Encoding\n",
    "\n",
    "Encode the categorical list ['cold', 'warm', 'hot'] into ordinal values, where 'cold' < 'warm' < 'hot'.\n"
   ]
  },
  {
   "cell_type": "code",
   "execution_count": 68,
   "metadata": {},
   "outputs": [
    {
     "name": "stdout",
     "output_type": "stream",
     "text": [
      "  Temperature  Degrees\n",
      "0        cold        0\n",
      "1        warm        1\n",
      "2         hot        2\n"
     ]
    }
   ],
   "source": [
    "ord = ['cold', 'warm', 'hot']\n",
    "\n",
    "temp = pd.DataFrame(ord, columns=['Temperature'])\n",
    "degree = {'cold': 0, 'warm': 1, 'hot': 2}\n",
    "temp['Degrees'] = temp['Temperature'].map(degree)\n",
    "# sizes = pd.DataFrame({'Word': size, 'Short': category})\n",
    "print(temp)\n"
   ]
  }
 ],
 "metadata": {
  "kernelspec": {
   "display_name": ".venv",
   "language": "python",
   "name": "python3"
  },
  "language_info": {
   "codemirror_mode": {
    "name": "ipython",
    "version": 3
   },
   "file_extension": ".py",
   "mimetype": "text/x-python",
   "name": "python",
   "nbconvert_exporter": "python",
   "pygments_lexer": "ipython3",
   "version": "3.9.1"
  }
 },
 "nbformat": 4,
 "nbformat_minor": 2
}

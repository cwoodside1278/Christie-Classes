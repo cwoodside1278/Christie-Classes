{
 "cells": [
  {
   "cell_type": "markdown",
   "metadata": {},
   "source": [
    "# Christie Woodside HW8 Problem Set 2 - Association Rules"
   ]
  },
  {
   "cell_type": "code",
   "execution_count": 18,
   "metadata": {},
   "outputs": [
    {
     "name": "stderr",
     "output_type": "stream",
     "text": [
      "/Users/christiewoodside/opt/anaconda3/lib/python3.8/site-packages/ipykernel/ipkernel.py:287: DeprecationWarning: `should_run_async` will not call `transform_cell` automatically in the future. Please pass the result to `transformed_cell` argument and any exception that happen during thetransform in `preprocessing_exc_tuple` in IPython 7.17 and above.\n",
      "  and should_run_async(code)\n"
     ]
    },
    {
     "name": "stdout",
     "output_type": "stream",
     "text": [
      "Index(['CENSUSTRACT_FIPS', 'CensusTract_population', 'SDI_score', 'PovertyLT100_FPL_score', 'Single_Parent_Fam_score', 'Education_LT12years_score', 'HHNo_Vehicle_score', 'HHRenter_Occupied_score', 'HHCrowding_score', 'Nonemployed_score', 'sdi', 'pct_Poverty_LT100', 'pct_Single_Parent_Fam', 'pct_Education_LT12years', 'pct_NonEmployed', 'pctHH_No_Vehicle', 'pctHH_Renter_Occupied', 'pctHH_Crowding'], dtype='object')\n"
     ]
    },
    {
     "data": {
      "text/html": [
       "<div>\n",
       "<style scoped>\n",
       "    .dataframe tbody tr th:only-of-type {\n",
       "        vertical-align: middle;\n",
       "    }\n",
       "\n",
       "    .dataframe tbody tr th {\n",
       "        vertical-align: top;\n",
       "    }\n",
       "\n",
       "    .dataframe thead th {\n",
       "        text-align: right;\n",
       "    }\n",
       "</style>\n",
       "<table border=\"1\" class=\"dataframe\">\n",
       "  <thead>\n",
       "    <tr style=\"text-align: right;\">\n",
       "      <th></th>\n",
       "      <th>CENSUSTRACT_FIPS</th>\n",
       "      <th>CensusTract_population</th>\n",
       "      <th>SDI_score</th>\n",
       "      <th>PovertyLT100_FPL_score</th>\n",
       "      <th>Single_Parent_Fam_score</th>\n",
       "      <th>Education_LT12years_score</th>\n",
       "      <th>HHNo_Vehicle_score</th>\n",
       "      <th>HHRenter_Occupied_score</th>\n",
       "      <th>HHCrowding_score</th>\n",
       "      <th>Nonemployed_score</th>\n",
       "      <th>sdi</th>\n",
       "      <th>pct_Poverty_LT100</th>\n",
       "      <th>pct_Single_Parent_Fam</th>\n",
       "      <th>pct_Education_LT12years</th>\n",
       "      <th>pct_NonEmployed</th>\n",
       "      <th>pctHH_No_Vehicle</th>\n",
       "      <th>pctHH_Renter_Occupied</th>\n",
       "      <th>pctHH_Crowding</th>\n",
       "    </tr>\n",
       "  </thead>\n",
       "  <tbody>\n",
       "    <tr>\n",
       "      <th>0</th>\n",
       "      <td>1001020100</td>\n",
       "      <td>1993</td>\n",
       "      <td>52.0</td>\n",
       "      <td>71.0</td>\n",
       "      <td>50.0</td>\n",
       "      <td>64.0</td>\n",
       "      <td>11.0</td>\n",
       "      <td>38.0</td>\n",
       "      <td>1.0</td>\n",
       "      <td>74.0</td>\n",
       "      <td>0.019577</td>\n",
       "      <td>0.166583</td>\n",
       "      <td>0.116402</td>\n",
       "      <td>0.125472</td>\n",
       "      <td>0.454829</td>\n",
       "      <td>0.009873</td>\n",
       "      <td>0.236953</td>\n",
       "      <td>0.000000</td>\n",
       "    </tr>\n",
       "    <tr>\n",
       "      <th>1</th>\n",
       "      <td>1001020200</td>\n",
       "      <td>1959</td>\n",
       "      <td>74.0</td>\n",
       "      <td>77.0</td>\n",
       "      <td>26.0</td>\n",
       "      <td>71.0</td>\n",
       "      <td>86.0</td>\n",
       "      <td>61.0</td>\n",
       "      <td>44.0</td>\n",
       "      <td>96.0</td>\n",
       "      <td>0.716664</td>\n",
       "      <td>0.191340</td>\n",
       "      <td>0.071618</td>\n",
       "      <td>0.148254</td>\n",
       "      <td>0.779101</td>\n",
       "      <td>0.142442</td>\n",
       "      <td>0.373547</td>\n",
       "      <td>0.015988</td>\n",
       "    </tr>\n",
       "    <tr>\n",
       "      <th>2</th>\n",
       "      <td>1001020300</td>\n",
       "      <td>3507</td>\n",
       "      <td>71.0</td>\n",
       "      <td>73.0</td>\n",
       "      <td>68.0</td>\n",
       "      <td>71.0</td>\n",
       "      <td>50.0</td>\n",
       "      <td>58.0</td>\n",
       "      <td>61.0</td>\n",
       "      <td>44.0</td>\n",
       "      <td>0.594259</td>\n",
       "      <td>0.172512</td>\n",
       "      <td>0.160775</td>\n",
       "      <td>0.149701</td>\n",
       "      <td>0.332575</td>\n",
       "      <td>0.046324</td>\n",
       "      <td>0.353676</td>\n",
       "      <td>0.027941</td>\n",
       "    </tr>\n",
       "    <tr>\n",
       "      <th>3</th>\n",
       "      <td>1001020400</td>\n",
       "      <td>3878</td>\n",
       "      <td>22.0</td>\n",
       "      <td>18.0</td>\n",
       "      <td>33.0</td>\n",
       "      <td>44.0</td>\n",
       "      <td>14.0</td>\n",
       "      <td>32.0</td>\n",
       "      <td>27.0</td>\n",
       "      <td>65.0</td>\n",
       "      <td>-0.867549</td>\n",
       "      <td>0.046416</td>\n",
       "      <td>0.085202</td>\n",
       "      <td>0.081583</td>\n",
       "      <td>0.411869</td>\n",
       "      <td>0.012537</td>\n",
       "      <td>0.208955</td>\n",
       "      <td>0.007164</td>\n",
       "    </tr>\n",
       "    <tr>\n",
       "      <th>4</th>\n",
       "      <td>1001020500</td>\n",
       "      <td>10596</td>\n",
       "      <td>59.0</td>\n",
       "      <td>67.0</td>\n",
       "      <td>42.0</td>\n",
       "      <td>43.0</td>\n",
       "      <td>49.0</td>\n",
       "      <td>78.0</td>\n",
       "      <td>21.0</td>\n",
       "      <td>31.0</td>\n",
       "      <td>0.211409</td>\n",
       "      <td>0.151626</td>\n",
       "      <td>0.100202</td>\n",
       "      <td>0.079653</td>\n",
       "      <td>0.292953</td>\n",
       "      <td>0.044390</td>\n",
       "      <td>0.516841</td>\n",
       "      <td>0.004684</td>\n",
       "    </tr>\n",
       "  </tbody>\n",
       "</table>\n",
       "</div>"
      ],
      "text/plain": [
       "   CENSUSTRACT_FIPS  CensusTract_population  SDI_score  PovertyLT100_FPL_score  Single_Parent_Fam_score  Education_LT12years_score  HHNo_Vehicle_score  HHRenter_Occupied_score  HHCrowding_score  Nonemployed_score       sdi  pct_Poverty_LT100  pct_Single_Parent_Fam  pct_Education_LT12years  pct_NonEmployed  pctHH_No_Vehicle  pctHH_Renter_Occupied  pctHH_Crowding\n",
       "0        1001020100                    1993       52.0                    71.0                     50.0                       64.0                11.0                     38.0               1.0               74.0  0.019577           0.166583               0.116402                 0.125472         0.454829          0.009873               0.236953        0.000000\n",
       "1        1001020200                    1959       74.0                    77.0                     26.0                       71.0                86.0                     61.0              44.0               96.0  0.716664           0.191340               0.071618                 0.148254         0.779101          0.142442               0.373547        0.015988\n",
       "2        1001020300                    3507       71.0                    73.0                     68.0                       71.0                50.0                     58.0              61.0               44.0  0.594259           0.172512               0.160775                 0.149701         0.332575          0.046324               0.353676        0.027941\n",
       "3        1001020400                    3878       22.0                    18.0                     33.0                       44.0                14.0                     32.0              27.0               65.0 -0.867549           0.046416               0.085202                 0.081583         0.411869          0.012537               0.208955        0.007164\n",
       "4        1001020500                   10596       59.0                    67.0                     42.0                       43.0                49.0                     78.0              21.0               31.0  0.211409           0.151626               0.100202                 0.079653         0.292953          0.044390               0.516841        0.004684"
      ]
     },
     "execution_count": 18,
     "metadata": {},
     "output_type": "execute_result"
    }
   ],
   "source": [
    "import pandas as pd\n",
    "import numpy as np\n",
    "from sklearn.cluster import KMeans\n",
    "import matplotlib.pyplot as plt\n",
    "from mlxtend.frequent_patterns import apriori\n",
    "from mlxtend.frequent_patterns import association_rules\n",
    "\n",
    "census_data = pd.read_csv('rgcsdi-2015-2019-censustract.csv')\n",
    "print(census_data.columns)\n",
    "census_data.head()"
   ]
  },
  {
   "cell_type": "code",
   "execution_count": 19,
   "metadata": {},
   "outputs": [
    {
     "name": "stdout",
     "output_type": "stream",
     "text": [
      "   CENSUSTRACT_FIPS  CensusTract_population  SDI_score  PovertyLT100_FPL_score  Single_Parent_Fam_score  Education_LT12years_score  HHNo_Vehicle_score  HHRenter_Occupied_score  HHCrowding_score  Nonemployed_score       sdi  pct_Poverty_LT100  pct_Single_Parent_Fam  pct_Education_LT12years  pct_NonEmployed  pctHH_No_Vehicle  pctHH_Renter_Occupied  pctHH_Crowding  PovertyLT100_FPL_score_Above75  Single_Parent_Fam_score_Above75  Education_LT12years_score_Above75  HHNo_Vehicle_score_Above75  HHRenter_Occupied_score_Above75  HHCrowding_score_Above75  Nonemployed_score_Above75\n",
      "0        1001020100                    1993       52.0                    71.0                     50.0                       64.0                11.0                     38.0               1.0               74.0  0.019577           0.166583               0.116402                 0.125472         0.454829          0.009873               0.236953        0.000000                           False                            False                              False                       False                            False                     False                      False\n",
      "1        1001020200                    1959       74.0                    77.0                     26.0                       71.0                86.0                     61.0              44.0               96.0  0.716664           0.191340               0.071618                 0.148254         0.779101          0.142442               0.373547        0.015988                           False                            False                              False                        True                            False                     False                       True\n",
      "2        1001020300                    3507       71.0                    73.0                     68.0                       71.0                50.0                     58.0              61.0               44.0  0.594259           0.172512               0.160775                 0.149701         0.332575          0.046324               0.353676        0.027941                           False                            False                              False                       False                            False                     False                      False\n",
      "3        1001020400                    3878       22.0                    18.0                     33.0                       44.0                14.0                     32.0              27.0               65.0 -0.867549           0.046416               0.085202                 0.081583         0.411869          0.012537               0.208955        0.007164                           False                            False                              False                       False                            False                     False                      False\n",
      "4        1001020500                   10596       59.0                    67.0                     42.0                       43.0                49.0                     78.0              21.0               31.0  0.211409           0.151626               0.100202                 0.079653         0.292953          0.044390               0.516841        0.004684                           False                            False                              False                       False                             True                     False                      False\n"
     ]
    },
    {
     "name": "stderr",
     "output_type": "stream",
     "text": [
      "/Users/christiewoodside/opt/anaconda3/lib/python3.8/site-packages/ipykernel/ipkernel.py:287: DeprecationWarning: `should_run_async` will not call `transform_cell` automatically in the future. Please pass the result to `transformed_cell` argument and any exception that happen during thetransform in `preprocessing_exc_tuple` in IPython 7.17 and above.\n",
      "  and should_run_async(code)\n"
     ]
    }
   ],
   "source": [
    "percentiles = {}\n",
    "columns = [\n",
    "    'PovertyLT100_FPL_score',\n",
    "    'Single_Parent_Fam_score',\n",
    "    'Education_LT12years_score',\n",
    "    'HHNo_Vehicle_score',\n",
    "    'HHRenter_Occupied_score',\n",
    "    'HHCrowding_score',\n",
    "    'Nonemployed_score'\n",
    "]\n",
    "#checks each column and row is above the quantile\n",
    "for col in columns:\n",
    "    percentiles[col] = census_data[col].quantile(0.75)\n",
    "\n",
    "# Create new columns that flag whether each value exceeds the 75th percentile\n",
    "for col in columns:\n",
    "    census_data[f'{col}_Above75'] = census_data[col] > percentiles[col]\n",
    "\n",
    "print(census_data.head())"
   ]
  },
  {
   "cell_type": "markdown",
   "metadata": {},
   "source": [
    "## Frequent Itemset Analysis"
   ]
  },
  {
   "cell_type": "code",
   "execution_count": 20,
   "metadata": {},
   "outputs": [
    {
     "name": "stdout",
     "output_type": "stream",
     "text": [
      "   PovertyLT100_FPL_score_Above75  Single_Parent_Fam_score_Above75  Education_LT12years_score_Above75  HHNo_Vehicle_score_Above75  HHRenter_Occupied_score_Above75  HHCrowding_score_Above75  Nonemployed_score_Above75\n",
      "0                           False                            False                              False                       False                            False                     False                      False\n",
      "1                           False                            False                              False                        True                            False                     False                       True\n",
      "2                           False                            False                              False                       False                            False                     False                      False\n",
      "3                           False                            False                              False                       False                            False                     False                      False\n",
      "4                           False                            False                              False                       False                             True                     False                      False\n",
      "   PovertyLT100_FPL_score_Above75  Single_Parent_Fam_score_Above75  Education_LT12years_score_Above75  HHNo_Vehicle_score_Above75  HHRenter_Occupied_score_Above75  HHCrowding_score_Above75  Nonemployed_score_Above75\n",
      "0                               0                                0                                  0                           0                                0                         0                          0\n",
      "1                               0                                0                                  0                           1                                0                         0                          1\n",
      "2                               0                                0                                  0                           0                                0                         0                          0\n",
      "3                               0                                0                                  0                           0                                0                         0                          0\n",
      "4                               0                                0                                  0                           0                                1                         0                          0\n"
     ]
    },
    {
     "name": "stderr",
     "output_type": "stream",
     "text": [
      "/Users/christiewoodside/opt/anaconda3/lib/python3.8/site-packages/ipykernel/ipkernel.py:287: DeprecationWarning: `should_run_async` will not call `transform_cell` automatically in the future. Please pass the result to `transformed_cell` argument and any exception that happen during thetransform in `preprocessing_exc_tuple` in IPython 7.17 and above.\n",
      "  and should_run_async(code)\n"
     ]
    }
   ],
   "source": [
    "#a)\n",
    "flag_column = [col for col in census_data.columns if '_Above75' in col]\n",
    "flag_data = census_data[flag_column]\n",
    "\n",
    "print(flag_data.head(5))\n",
    "\n",
    "#b)\n",
    "'''1 is True and 0 is False\n",
    "\"flag whether each value exceeds the 75th percentile\"'''\n",
    "binary = flag_data.astype(int)\n",
    "print(binary.head())"
   ]
  },
  {
   "cell_type": "code",
   "execution_count": 21,
   "metadata": {},
   "outputs": [
    {
     "name": "stderr",
     "output_type": "stream",
     "text": [
      "/Users/christiewoodside/opt/anaconda3/lib/python3.8/site-packages/ipykernel/ipkernel.py:287: DeprecationWarning: `should_run_async` will not call `transform_cell` automatically in the future. Please pass the result to `transformed_cell` argument and any exception that happen during thetransform in `preprocessing_exc_tuple` in IPython 7.17 and above.\n",
      "  and should_run_async(code)\n",
      "/Users/christiewoodside/opt/anaconda3/lib/python3.8/site-packages/mlxtend/frequent_patterns/fpcommon.py:109: DeprecationWarning: DataFrames with non-bool types result in worse computationalperformance and their support might be discontinued in the future.Please use a DataFrame with bool type\n",
      "  warnings.warn(\n"
     ]
    },
    {
     "name": "stdout",
     "output_type": "stream",
     "text": [
      "     support                                                                                                                                                           itemsets\n",
      "0   0.237625                                                                                                                                   (PovertyLT100_FPL_score_Above75)\n",
      "1   0.247498                                                                                                                                  (Single_Parent_Fam_score_Above75)\n",
      "2   0.240405                                                                                                                                (Education_LT12years_score_Above75)\n",
      "3   0.238228                                                                                                                                       (HHNo_Vehicle_score_Above75)\n",
      "4   0.247498                                                                                                                                  (HHRenter_Occupied_score_Above75)\n",
      "..       ...                                                                                                                                                                ...\n",
      "78  0.056058                                          (Nonemployed_score_Above75, HHRenter_Occupied_score_Above75, Single_Parent_Fam_score_Above75, HHNo_Vehicle_score_Above75)\n",
      "79  0.052690                                         (Education_LT12years_score_Above75, HHRenter_Occupied_score_Above75, HHCrowding_score_Above75, HHNo_Vehicle_score_Above75)\n",
      "80  0.057168  (HHNo_Vehicle_score_Above75, Education_LT12years_score_Above75, HHRenter_Occupied_score_Above75, PovertyLT100_FPL_score_Above75, Single_Parent_Fam_score_Above75)\n",
      "81  0.051430        (HHNo_Vehicle_score_Above75, Nonemployed_score_Above75, Education_LT12years_score_Above75, PovertyLT100_FPL_score_Above75, Single_Parent_Fam_score_Above75)\n",
      "82  0.054087          (HHNo_Vehicle_score_Above75, Nonemployed_score_Above75, HHRenter_Occupied_score_Above75, PovertyLT100_FPL_score_Above75, Single_Parent_Fam_score_Above75)\n",
      "\n",
      "[83 rows x 2 columns]\n"
     ]
    }
   ],
   "source": [
    "#c) identifying frequeant items\n",
    "f_items = apriori(binary, min_support=0.05, use_colnames=True)\n",
    "\n",
    "print(f_items)"
   ]
  },
  {
   "cell_type": "markdown",
   "metadata": {},
   "source": [
    "## Association Rule Mining"
   ]
  },
  {
   "cell_type": "code",
   "execution_count": 22,
   "metadata": {},
   "outputs": [
    {
     "name": "stdout",
     "output_type": "stream",
     "text": [
      "                             antecedents                                                                                                                     consequents  antecedent support  consequent support   support  confidence      lift  leverage  conviction  zhangs_metric\n",
      "0       (PovertyLT100_FPL_score_Above75)                                                                                               (Single_Parent_Fam_score_Above75)            0.237625            0.247498  0.151935    0.639391  2.583425  0.093124    2.086757       0.803957\n",
      "1      (Single_Parent_Fam_score_Above75)                                                                                                (PovertyLT100_FPL_score_Above75)            0.247498            0.237625  0.151935    0.613887  2.583425  0.093124    1.974484       0.814505\n",
      "2    (Education_LT12years_score_Above75)                                                                                                (PovertyLT100_FPL_score_Above75)            0.240405            0.237625  0.142282    0.591844  2.490661  0.085156    1.867850       0.787920\n",
      "3       (PovertyLT100_FPL_score_Above75)                                                                                             (Education_LT12years_score_Above75)            0.237625            0.240405  0.142282    0.598767  2.490661  0.085156    1.893152       0.785047\n",
      "4       (PovertyLT100_FPL_score_Above75)                                                                                                    (HHNo_Vehicle_score_Above75)            0.237625            0.238228  0.139270    0.586090  2.460209  0.082661    1.840429       0.778528\n",
      "..                                   ...                                                                                                                             ...                 ...                 ...       ...         ...       ...       ...         ...            ...\n",
      "599         (HHNo_Vehicle_score_Above75)   (Nonemployed_score_Above75, HHRenter_Occupied_score_Above75, PovertyLT100_FPL_score_Above75, Single_Parent_Fam_score_Above75)            0.238228            0.061590  0.054087    0.227038  3.686257  0.039414    1.214043       0.956614\n",
      "600          (Nonemployed_score_Above75)  (HHRenter_Occupied_score_Above75, PovertyLT100_FPL_score_Above75, Single_Parent_Fam_score_Above75, HHNo_Vehicle_score_Above75)            0.239241            0.081952  0.054087    0.226076  2.758656  0.034480    1.186226       0.837985\n",
      "601    (HHRenter_Occupied_score_Above75)        (Nonemployed_score_Above75, PovertyLT100_FPL_score_Above75, Single_Parent_Fam_score_Above75, HHNo_Vehicle_score_Above75)            0.247498            0.070011  0.054087    0.218534  3.121406  0.036759    1.190056       0.903162\n",
      "602     (PovertyLT100_FPL_score_Above75)       (Nonemployed_score_Above75, HHRenter_Occupied_score_Above75, Single_Parent_Fam_score_Above75, HHNo_Vehicle_score_Above75)            0.237625            0.056058  0.054087    0.227613  4.060289  0.040766    1.222110       0.988637\n",
      "603    (Single_Parent_Fam_score_Above75)        (Nonemployed_score_Above75, HHRenter_Occupied_score_Above75, PovertyLT100_FPL_score_Above75, HHNo_Vehicle_score_Above75)            0.247498            0.066164  0.054087    0.218534  3.302928  0.037711    1.194980       0.926560\n",
      "\n",
      "[604 rows x 10 columns]\n"
     ]
    },
    {
     "name": "stderr",
     "output_type": "stream",
     "text": [
      "/Users/christiewoodside/opt/anaconda3/lib/python3.8/site-packages/ipykernel/ipkernel.py:287: DeprecationWarning: `should_run_async` will not call `transform_cell` automatically in the future. Please pass the result to `transformed_cell` argument and any exception that happen during thetransform in `preprocessing_exc_tuple` in IPython 7.17 and above.\n",
      "  and should_run_async(code)\n"
     ]
    },
    {
     "data": {
      "text/plain": [
       "'the antecedent is the \"if\" part and the consequent is the \"then\" part'"
      ]
     },
     "execution_count": 22,
     "metadata": {},
     "output_type": "execute_result"
    }
   ],
   "source": [
    "#also my the metric 'lift'\n",
    "a_rules = association_rules(f_items, metric= 'lift', min_threshold=0.6)\n",
    "print(a_rules)\n",
    "\"\"\"the antecedent is the \"if\" part and the consequent is the \"then\" part\"\"\""
   ]
  },
  {
   "cell_type": "code",
   "execution_count": 23,
   "metadata": {},
   "outputs": [
    {
     "name": "stdout",
     "output_type": "stream",
     "text": [
      "Top 25 Rules by Lift Metric:\n",
      "                                                                                                antecedents                                                                                            consequents  antecedent support  consequent support   support  confidence      lift  leverage  conviction  zhangs_metric\n",
      "586          (Nonemployed_score_Above75, HHRenter_Occupied_score_Above75, Single_Parent_Fam_score_Above75)                                           (PovertyLT100_FPL_score_Above75, HHNo_Vehicle_score_Above75)            0.064890            0.139270  0.054087    0.833509  5.984860  0.045049    5.169837       0.890710\n",
      "591                                           (PovertyLT100_FPL_score_Above75, HHNo_Vehicle_score_Above75)          (Nonemployed_score_Above75, HHRenter_Occupied_score_Above75, Single_Parent_Fam_score_Above75)            0.139270            0.064890  0.054087    0.388359  5.984860  0.045049    1.528854       0.967680\n",
      "593                                           (Nonemployed_score_Above75, HHRenter_Occupied_score_Above75)          (PovertyLT100_FPL_score_Above75, Single_Parent_Fam_score_Above75, HHNo_Vehicle_score_Above75)            0.087922            0.104326  0.054087    0.615169  5.896628  0.044914    2.327449       0.910461\n",
      "584          (PovertyLT100_FPL_score_Above75, Single_Parent_Fam_score_Above75, HHNo_Vehicle_score_Above75)                                           (Nonemployed_score_Above75, HHRenter_Occupied_score_Above75)            0.104326            0.087922  0.054087    0.518441  5.896628  0.044914    1.894011       0.927135\n",
      "565                                           (Nonemployed_score_Above75, Single_Parent_Fam_score_Above75)        (Education_LT12years_score_Above75, PovertyLT100_FPL_score_Above75, HHNo_Vehicle_score_Above75)            0.102628            0.089565  0.051430    0.501134  5.595218  0.042238    1.825010       0.915201\n",
      "552        (Education_LT12years_score_Above75, PovertyLT100_FPL_score_Above75, HHNo_Vehicle_score_Above75)                                           (Nonemployed_score_Above75, Single_Parent_Fam_score_Above75)            0.089565            0.102628  0.051430    0.574224  5.595218  0.042238    2.107617       0.902070\n",
      "439                                           (PovertyLT100_FPL_score_Above75, HHNo_Vehicle_score_Above75)                                           (Nonemployed_score_Above75, HHRenter_Occupied_score_Above75)            0.139270            0.087922  0.066164    0.475076  5.403409  0.053919    1.737544       0.946791\n",
      "434                                           (Nonemployed_score_Above75, HHRenter_Occupied_score_Above75)                                           (PovertyLT100_FPL_score_Above75, HHNo_Vehicle_score_Above75)            0.087922            0.139270  0.066164    0.752531  5.403409  0.053919    3.478131       0.893489\n",
      "596                                      (HHRenter_Occupied_score_Above75, PovertyLT100_FPL_score_Above75)               (Nonemployed_score_Above75, Single_Parent_Fam_score_Above75, HHNo_Vehicle_score_Above75)            0.135641            0.073955  0.054087    0.398748  5.391776  0.044055    1.540195       0.942354\n",
      "581               (Nonemployed_score_Above75, Single_Parent_Fam_score_Above75, HHNo_Vehicle_score_Above75)                                      (HHRenter_Occupied_score_Above75, PovertyLT100_FPL_score_Above75)            0.073955            0.135641  0.054087    0.731346  5.391776  0.044055    3.217369       0.879582\n",
      "536                                      (HHRenter_Occupied_score_Above75, PovertyLT100_FPL_score_Above75)       (Education_LT12years_score_Above75, Single_Parent_Fam_score_Above75, HHNo_Vehicle_score_Above75)            0.135641            0.079035  0.057168    0.421462  5.332601  0.046447    1.591883       0.939973\n",
      "521       (Education_LT12years_score_Above75, Single_Parent_Fam_score_Above75, HHNo_Vehicle_score_Above75)                                      (HHRenter_Occupied_score_Above75, PovertyLT100_FPL_score_Above75)            0.079035            0.135641  0.057168    0.723319  5.332601  0.046447    3.124033       0.882199\n",
      "556        (Nonemployed_score_Above75, Education_LT12years_score_Above75, Single_Parent_Fam_score_Above75)                                           (PovertyLT100_FPL_score_Above75, HHNo_Vehicle_score_Above75)            0.069943            0.139270  0.051430    0.735317  5.279810  0.041689    3.251931       0.871559\n",
      "561                                           (PovertyLT100_FPL_score_Above75, HHNo_Vehicle_score_Above75)        (Nonemployed_score_Above75, Education_LT12years_score_Above75, Single_Parent_Fam_score_Above75)            0.139270            0.069943  0.051430    0.369285  5.279810  0.041689    1.474608       0.941757\n",
      "592                                          (Single_Parent_Fam_score_Above75, HHNo_Vehicle_score_Above75)           (Nonemployed_score_Above75, HHRenter_Occupied_score_Above75, PovertyLT100_FPL_score_Above75)            0.131848            0.077857  0.054087    0.410219  5.268856  0.043821    1.563534       0.933253\n",
      "585           (Nonemployed_score_Above75, HHRenter_Occupied_score_Above75, PovertyLT100_FPL_score_Above75)                                          (Single_Parent_Fam_score_Above75, HHNo_Vehicle_score_Above75)            0.077857            0.131848  0.054087    0.694689  5.268856  0.043821    2.843497       0.878612\n",
      "532                                          (Single_Parent_Fam_score_Above75, HHNo_Vehicle_score_Above75)   (Education_LT12years_score_Above75, HHRenter_Occupied_score_Above75, PovertyLT100_FPL_score_Above75)            0.131848            0.084005  0.057168    0.433586  5.161405  0.046092    1.617182       0.928702\n",
      "525   (Education_LT12years_score_Above75, HHRenter_Occupied_score_Above75, PovertyLT100_FPL_score_Above75)                                          (Single_Parent_Fam_score_Above75, HHNo_Vehicle_score_Above75)            0.084005            0.131848  0.057168    0.680522  5.161405  0.046092    2.717404       0.880196\n",
      "558   (Education_LT12years_score_Above75, PovertyLT100_FPL_score_Above75, Single_Parent_Fam_score_Above75)                                                (Nonemployed_score_Above75, HHNo_Vehicle_score_Above75)            0.096658            0.104230  0.051430    0.532087  5.104943  0.041356    1.914394       0.890151\n",
      "559                                                (Nonemployed_score_Above75, HHNo_Vehicle_score_Above75)   (Education_LT12years_score_Above75, PovertyLT100_FPL_score_Above75, Single_Parent_Fam_score_Above75)            0.104230            0.096658  0.051430    0.493431  5.104943  0.041356    1.783258       0.897676\n",
      "531                                           (PovertyLT100_FPL_score_Above75, HHNo_Vehicle_score_Above75)  (Education_LT12years_score_Above75, HHRenter_Occupied_score_Above75, Single_Parent_Fam_score_Above75)            0.139270            0.080569  0.057168    0.410481  5.094803  0.045947    1.559629       0.933767\n",
      "526  (Education_LT12years_score_Above75, HHRenter_Occupied_score_Above75, Single_Parent_Fam_score_Above75)                                           (PovertyLT100_FPL_score_Above75, HHNo_Vehicle_score_Above75)            0.080569            0.139270  0.057168    0.709551  5.094803  0.045947    2.963451       0.874151\n",
      "582          (HHRenter_Occupied_score_Above75, PovertyLT100_FPL_score_Above75, HHNo_Vehicle_score_Above75)                                           (Nonemployed_score_Above75, Single_Parent_Fam_score_Above75)            0.104394            0.102628  0.054087    0.518101  5.048354  0.043373    1.862158       0.895389\n",
      "595                                           (Nonemployed_score_Above75, Single_Parent_Fam_score_Above75)          (HHRenter_Occupied_score_Above75, PovertyLT100_FPL_score_Above75, HHNo_Vehicle_score_Above75)            0.102628            0.104394  0.054087    0.527018  5.048354  0.043373    1.893531       0.893626\n",
      "589                                                (Nonemployed_score_Above75, HHNo_Vehicle_score_Above75)     (HHRenter_Occupied_score_Above75, PovertyLT100_FPL_score_Above75, Single_Parent_Fam_score_Above75)            0.104230            0.103038  0.054087    0.518917  5.036155  0.043347    1.864465       0.894689\n"
     ]
    },
    {
     "name": "stderr",
     "output_type": "stream",
     "text": [
      "/Users/christiewoodside/opt/anaconda3/lib/python3.8/site-packages/ipykernel/ipkernel.py:287: DeprecationWarning: `should_run_async` will not call `transform_cell` automatically in the future. Please pass the result to `transformed_cell` argument and any exception that happen during thetransform in `preprocessing_exc_tuple` in IPython 7.17 and above.\n",
      "  and should_run_async(code)\n"
     ]
    },
    {
     "data": {
      "text/plain": [
       "' \"Higher lift values indicate stronger associations between the antecedents and consequents.\"\\n\\nthe a values with \\'lift\\' greater than 1 \\'that the occurrence of the antecedent increases the likelihood of \\nthe consequent occurring, indicating a potentially valuable association.\\'  '"
      ]
     },
     "execution_count": 23,
     "metadata": {},
     "output_type": "execute_result"
    }
   ],
   "source": [
    "a_rules_by_lift = a_rules.sort_values(by=\"lift\", ascending=False)\n",
    "\n",
    "pd.set_option('display.max_columns', None)\n",
    "pd.set_option('display.width', 1000) #increasing the display width\n",
    "pd.set_option('display.max_colwidth', None)\n",
    "\n",
    "print(\"Top 25 Rules by Lift Metric:\\n\", a_rules_by_lift.head(25))\n",
    "\n",
    "''' \"Higher lift values indicate stronger associations between the antecedents and consequents.\"\n",
    "\n",
    "the a values with 'lift' greater than 1 'that the occurrence of the antecedent increases the likelihood of \n",
    "the consequent occurring, indicating a potentially valuable association.'  '''\n"
   ]
  },
  {
   "cell_type": "markdown",
   "metadata": {},
   "source": [
    "## Results Analysis"
   ]
  },
  {
   "cell_type": "code",
   "execution_count": 24,
   "metadata": {},
   "outputs": [
    {
     "name": "stdout",
     "output_type": "stream",
     "text": [
      "                                                                                       antecedents                                                   consequents  antecedent support  consequent support   support  confidence     lift  leverage  conviction  zhangs_metric\n",
      "586  (Nonemployed_score_Above75, HHRenter_Occupied_score_Above75, Single_Parent_Fam_score_Above75)  (PovertyLT100_FPL_score_Above75, HHNo_Vehicle_score_Above75)             0.06489             0.13927  0.054087    0.833509  5.98486  0.045049    5.169837        0.89071 \n",
      "\n",
      "\n"
     ]
    },
    {
     "name": "stderr",
     "output_type": "stream",
     "text": [
      "/Users/christiewoodside/opt/anaconda3/lib/python3.8/site-packages/ipykernel/ipkernel.py:287: DeprecationWarning: `should_run_async` will not call `transform_cell` automatically in the future. Please pass the result to `transformed_cell` argument and any exception that happen during thetransform in `preprocessing_exc_tuple` in IPython 7.17 and above.\n",
      "  and should_run_async(code)\n"
     ]
    }
   ],
   "source": [
    "#to be used as an example for the results analysis\n",
    "print(a_rules_by_lift.head(1), '\\n\\n')"
   ]
  },
  {
   "cell_type": "markdown",
   "metadata": {},
   "source": [
    "So the antecedant is that the conditions need to be true in order for the rule to apply. The consequent will be likely to happen if the antecedent is true. \n",
    "\n",
    "So given the printout above, (Nonemployed_score_Above75, HHRenter_Occupied_score_Above75, Single_Parent_Fam_score_Above75) exceeds the 75th percentile then the consequent, (HHNo_Vehicle_score_Above75, PovertyLT100_FPL_score_Above75), is likely to happen. So the condition is true then there is an association with the consequent exceeding the 75th percentile. This example is for the highest lift value. "
   ]
  },
  {
   "cell_type": "markdown",
   "metadata": {},
   "source": [
    "The top rules can have significance by explainiing patterns which can be used for decision-making or in the case of this data policy making. This can help better understand which rules are highly associated to another allowing for further research.\n",
    "\n",
    "For example, the fourth highest lift value has (Nonemployed_score_Above75, HHRenter_Occupied_score_Above75) -> (HHNo_Vehicle_score_Above75, Single_Parent_Fam_score_Above75, PovertyLT100_FPL_score_Above75). This shows that if someone who was unemployed and is not renting is true then they most likely do not have a vehicle, are a single family, and below the 100% federal poverty line, particularly exceeding the 75th percentile in poverty. This can allow for us to understand the relaitonship between these rules and if any decision can be made to fix this. \n",
    "\n",
    "Another example, for the secodn highest lift value is (HHNo_Vehicle_score_Above75, PovertyLT100_FPL_score_Above75) -> (Nonemployed_score_Above75, HHRenter_Occupied_score_Above75, Single_Parent_Fam_score_Above75). Thsi says that if they do not have a vehicle and are below the 100% federal poverty line, , particularly exceeding the 75th percentile in poverty, then they most likely are unemployed, do not rent, and are from a single parent family. This is very similar to the one above indicating that these associations are common amongst these rules. This data can allow for researchers to push for policies to help social welfare or other federal aid programs to help them."
   ]
  },
  {
   "cell_type": "markdown",
   "metadata": {},
   "source": [
    "## Optional: Visualization Task"
   ]
  },
  {
   "cell_type": "code",
   "execution_count": 25,
   "metadata": {},
   "outputs": [
    {
     "name": "stderr",
     "output_type": "stream",
     "text": [
      "/Users/christiewoodside/opt/anaconda3/lib/python3.8/site-packages/ipykernel/ipkernel.py:287: DeprecationWarning: `should_run_async` will not call `transform_cell` automatically in the future. Please pass the result to `transformed_cell` argument and any exception that happen during thetransform in `preprocessing_exc_tuple` in IPython 7.17 and above.\n",
      "  and should_run_async(code)\n"
     ]
    },
    {
     "data": {
      "image/png": "[encoded data removed]",
      "text/plain": [
       "<Figure size 864x864 with 1 Axes>"
      ]
     },
     "metadata": {},
     "output_type": "display_data"
    }
   ],
   "source": [
    "import networkx as nx\n",
    "import matplotlib.pyplot as plt\n",
    "import pandas as pd\n",
    "\n",
    "\n",
    "# top rules by metric lift\n",
    "#top_rules = a_rules_by_lift.head(25)\n",
    "top_rules = a_rules.head(10)\n",
    "\n",
    "# Initialize a directed graph\n",
    "G = nx.DiGraph()\n",
    "\n",
    "# Add nodes and edges based on the rules\n",
    "for _, rule in top_rules.iterrows():\n",
    "    antecedent = list(rule['antecedents'])[0]  \n",
    "    consequent = list(rule['consequents'])[0]  \n",
    "    lift = rule['lift']\n",
    "    \n",
    "    # Add the edge with lift as the weight\n",
    "    G.add_edge(antecedent, consequent, weight=lift)\n",
    "\n",
    "\n",
    "plt.figure(figsize=(12, 12))\n",
    "plt.gcf().set_facecolor('white')  # Setting background to white so I can actually see it\n",
    "\n",
    "# Positions for all nodes using spring layout (force-directed graph)\n",
    "pos = nx.spring_layout(G, k=0.5, iterations=50)\n",
    "\n",
    "# Draw the network graph\n",
    "nx.draw_networkx_nodes(G, pos, node_size=3000, node_color='yellow', alpha=0.6)\n",
    "nx.draw_networkx_edges(G, pos, width=2, alpha=0.6, edge_color='gray')\n",
    "nx.draw_networkx_labels(G, pos, font_size=12, font_weight='bold')\n",
    "\n",
    "# Draw edge labels (lifting values or other metrics)\n",
    "edge_labels = nx.get_edge_attributes(G, 'weight')\n",
    "nx.draw_networkx_edge_labels(G, pos, edge_labels=edge_labels)\n",
    "\n",
    "# Create more descriptive labels for nodes\n",
    "node_labels = {node: node.split('=')[0] for node in G.nodes} \n",
    "nx.draw_networkx_labels(G, pos, labels=node_labels, font_size=12, font_weight='bold')\n",
    "\n",
    "\n",
    "plt.title('Network Visualization of Association Rules (Top 10 Rules by Lift)')\n",
    "plt.axis('off')\n",
    "plt.show()\n"
   ]
  },
  {
   "cell_type": "markdown",
   "metadata": {},
   "source": [
    "Poverty score above 75 appears to have the most associations, which is why it is centered at the middle. The back and forth arrow between No Vehicle and Poverty score can say, if poverty score is above 75 then no vehicle in the 75th and above percentile, and vice versa. The lift score is 2.5 indicating that people with poverty scores abouve the 75th percentile are significanly more likely to not have a car. If the poverty score is above the 75th percentile, then crowding is above the 75th percentile. Here, the lift score is 1.8 saying if the poverty score is above the 75th percentile then there is a moderate/medium association to dealing with overcrowding in the home. This graph helps us visualize the relationships between the antecedents and the consequents of the data and see the lift metric values directly. "
   ]
  }
 ],
 "metadata": {
  "kernelspec": {
   "display_name": "base",
   "language": "python",
   "name": "python3"
  },
  "language_info": {
   "codemirror_mode": {
    "name": "ipython",
    "version": 3
   },
   "file_extension": ".py",
   "mimetype": "text/x-python",
   "name": "python",
   "nbconvert_exporter": "python",
   "pygments_lexer": "ipython3",
   "version": "3.8.8"
  }
 },
 "nbformat": 4,
 "nbformat_minor": 2
}
